{
 "cells": [
  {
   "cell_type": "code",
   "execution_count": 24,
   "id": "d61a254d-4920-41a6-be67-cb9b36962b31",
   "metadata": {},
   "outputs": [
    {
     "name": "stdout",
     "output_type": "stream",
     "text": [
      "label\n",
      "0    250\n",
      "1    250\n",
      "Name: count, dtype: int64\n",
      "Sample spine created with 100 addresses\n",
      "                                         address  label        first_time  \\\n",
      "5438  0x569ec61f15aa4383aeaa8a001fea3b818b1e8d23      0   2022/11/14 2:08   \n",
      "5405  0x561346b09b4b1c80b1404a884f9e58178a28ca84      0     2024/1/4 5:47   \n",
      "88    0x0174a69fdecc5496224908ed3df2ff98df2f5056      0    2022/11/8 4:49   \n",
      "5397  0x55fa2a35404f597b211119c83c56f2ce701e2598      0   2021/4/22 18:56   \n",
      "1006  0x10940faad9e9fe68093b7f446d8fa446bb91a9c6      0  2022/10/10 16:20   \n",
      "\n",
      "            last_time  \n",
      "5438  2022/11/14 2:22  \n",
      "5405   2024/3/12 5:47  \n",
      "88    2024/3/26 14:52  \n",
      "5397  2024/7/31 12:13  \n",
      "1006   2023/3/26 7:13  \n"
     ]
    }
   ],
   "source": [
    "# ========================================\n",
    "# Step 1: Import libraries\n",
    "# ========================================\n",
    "import os\n",
    "import json\n",
    "import pandas as pd\n",
    "from tqdm import tqdm   # progress bar\n",
    "\n",
    "# ========================================\n",
    "# Step 2: Load CE & BE data (original labels)\n",
    "# ========================================\n",
    "ce = pd.read_csv(\"CE.tsv\", sep=\"\\t\")\n",
    "be = pd.read_csv(\"BE.tsv\", sep=\"\\t\")\n",
    "\n",
    "# Add labels (1 = criminal, 0 = benign)\n",
    "ce[\"label\"] = 1\n",
    "be[\"label\"] = 0\n",
    "\n",
    "# Create combined address spine\n",
    "addr_spine = pd.concat([\n",
    "    ce[[\"address\", \"label\", \"first_time\", \"last_time\"]],\n",
    "    be[[\"address\", \"label\", \"first_time\", \"last_time\"]]\n",
    "])\n",
    "\n",
    "# Take a small sample of 250 addresses\n",
    "spine_100 = pd.concat([\n",
    "    addr_spine[addr_spine[\"label\"] == 0].sample(n=250, random_state=42),\n",
    "    addr_spine[addr_spine[\"label\"] == 1].sample(n=250, random_state=42)\n",
    "])\n",
    "\n",
    "print(spine_100[\"label\"].value_counts())\n",
    "print(\"Sample spine created with 100 addresses\")\n",
    "print(spine_100.head())\n"
   ]
  },
  {
   "cell_type": "code",
   "execution_count": 25,
   "id": "53398e3f-abd3-498d-97e2-b4b8cbfc3c9c",
   "metadata": {},
   "outputs": [],
   "source": [
    "# ========================================\n",
    "# Step 3: Define helper function to load transactions\n",
    "# ========================================\n",
    "def load_transactions_for_address(address, base_path=\"ETHData\"):\n",
    "    \"\"\"\n",
    "    Reads normalTransaction.json and ERC_20_transactions.json\n",
    "    for a given wallet address.\n",
    "    Returns a DataFrame of transactions.\n",
    "    \"\"\"\n",
    "    addr_path = os.path.join(base_path, address)\n",
    "    tx_list = []\n",
    "\n",
    "    if not os.path.exists(addr_path):\n",
    "        return pd.DataFrame()\n",
    "\n",
    "    # Files we want to check\n",
    "    files = [\"normal_transactions.json\", \"ERC_20_transactions.json\"]\n",
    "\n",
    "    for file in files:\n",
    "        fpath = os.path.join(addr_path, file)\n",
    "        if os.path.exists(fpath):\n",
    "            try:\n",
    "                with open(fpath, \"r\") as f:\n",
    "                    data = json.load(f)\n",
    "\n",
    "                # Ensure list\n",
    "                if isinstance(data, dict) and \"result\" in data:\n",
    "                    data = data[\"result\"]\n",
    "\n",
    "                if isinstance(data, list):\n",
    "                    for tx in data:\n",
    "                        tx[\"address\"] = address\n",
    "                        tx[\"source_file\"] = file\n",
    "                        tx_list.append(tx)\n",
    "\n",
    "            except Exception as e:\n",
    "                print(f\"Error reading {fpath}: {e}\")\n",
    "\n",
    "    return pd.DataFrame(tx_list)\n"
   ]
  },
  {
   "cell_type": "code",
   "execution_count": 26,
   "id": "d0c1ade3-095f-4277-9aaf-0bb67143d664",
   "metadata": {},
   "outputs": [
    {
     "name": "stderr",
     "output_type": "stream",
     "text": [
      "100%|█████████████████████████████████████████| 500/500 [00:14<00:00, 34.44it/s]\n"
     ]
    },
    {
     "name": "stdout",
     "output_type": "stream",
     "text": [
      "Final transaction DataFrame shape: (285228, 22)\n"
     ]
    }
   ],
   "source": [
    "# ========================================\n",
    "# Step 4: Iterate through the 100 addresses and collect transactions\n",
    "# ========================================\n",
    "all_txs = []\n",
    "\n",
    "for _, row in tqdm(spine_100.iterrows(), total=len(spine_100)):\n",
    "    addr = row[\"address\"]\n",
    "    label = row[\"label\"]\n",
    "\n",
    "    df_addr = load_transactions_for_address(addr, base_path=\"ETHData\")\n",
    "    if not df_addr.empty:\n",
    "        # Add labels and timestamps\n",
    "        df_addr[\"label\"] = label\n",
    "        df_addr[\"first_time\"] = row[\"first_time\"]\n",
    "        df_addr[\"last_time\"] = row[\"last_time\"]\n",
    "\n",
    "        # --- Clean unwanted columns ---\n",
    "        cols_to_drop = [\n",
    "            \"tokenName\", \"tokenSymbol\", \"tokenDecimal\", \n",
    "            \"input\", \"methodId\", \"contractAddress\"\n",
    "        ]\n",
    "        df_addr = df_addr.drop(columns=[c for c in cols_to_drop if c in df_addr.columns], errors=\"ignore\")\n",
    "\n",
    "        # --- Remove transactions where functionName is missing ---\n",
    "        # if \"functionName\" in df_addr.columns:\n",
    "        #     df_addr = df_addr.dropna(subset=[\"functionName\"])\n",
    "        #     df_addr = df_addr[df_addr[\"functionName\"].astype(str).str.strip() != \"\"]\n",
    "\n",
    "        all_txs.append(df_addr)\n",
    "\n",
    "# Combine all into one DataFrame\n",
    "if all_txs:\n",
    "    tx_df = pd.concat(all_txs, ignore_index=True)\n",
    "else:\n",
    "    tx_df = pd.DataFrame()\n",
    "\n",
    "print(\"Final transaction DataFrame shape:\", tx_df.shape)\n"
   ]
  },
  {
   "cell_type": "code",
   "execution_count": 28,
   "id": "f6a92bdf-8d66-4560-8411-e6f9f49a545f",
   "metadata": {},
   "outputs": [
    {
     "name": "stdout",
     "output_type": "stream",
     "text": [
      "Saved mini dataset (Parquet + CSV)\n"
     ]
    }
   ],
   "source": [
    "# ========================================\n",
    "# Step 5: Save processed smaller dataset\n",
    "# ========================================\n",
    "if not tx_df.empty:\n",
    "    tx_df.to_parquet(\"mini_transactions.parquet\", index=False)\n",
    "    tx_df.to_csv(\"mini_transactions.csv\", index=False)\n",
    "    print(\"Saved mini dataset (Parquet + CSV)\")\n"
   ]
  },
  {
   "cell_type": "code",
   "execution_count": 29,
   "id": "bbc917ef-52de-40e4-8fd8-24f8d7b4d184",
   "metadata": {},
   "outputs": [
    {
     "name": "stdout",
     "output_type": "stream",
     "text": [
      "  blockNumber                                          blockHash   timeStamp  \\\n",
      "0    15962797  0x99bba26b4a9e2ac8da2c0f6d011e695d0bf34488de5a...  1668362915   \n",
      "1    15962869  0xc68fac12973278381f1440248f47460cf03ee61263ec...  1668363779   \n",
      "2    18929595  0xd1b51e536ac50ce6cb08a74a032535e3af1e51a576c7...  1704318455   \n",
      "3    18929610  0xe107cdfda0bf1992040a724d221c1bd6b2b35478deba...  1704318635   \n",
      "4    18929625  0xc3710a3bd0cb6a8a735463cb84a9b618befa466fea59...  1704318815   \n",
      "\n",
      "                                                hash    nonce  \\\n",
      "0  0xc1cc4b6e1d91420ba94689f42864e4c2b1dff7ed9e58...  3444505   \n",
      "1  0xacfb9feb827c68c6fc3936f8a70970b473bc78b0c7b2...        0   \n",
      "2  0xbda76e41324650172b19ffa3ab423254b26bef11cc70...       76   \n",
      "3  0x5032f30c7bc2a99ea0ee23ed557193206032095c399d...        0   \n",
      "4  0x3b75f0b627943b0472c7d982c3f6b44109d5d52b509e...       83   \n",
      "\n",
      "  transactionIndex                                        from  \\\n",
      "0               69  0x9696f59e4d72e237be84ffd425dcad154bf96976   \n",
      "1               14  0x569ec61f15aa4383aeaa8a001fea3b818b1e8d23   \n",
      "2               12  0x5368dbb6ff810867e8290c38abd5eefe57a1fa59   \n",
      "3               47  0x561346b09b4b1c80b1404a884f9e58178a28ca84   \n",
      "4               27  0x5368dbb6ff810867e8290c38abd5eefe57a1fa59   \n",
      "\n",
      "                                           to                value     gas  \\\n",
      "0  0x569ec61f15aa4383aeaa8a001fea3b818b1e8d23    36829800000000000  207128   \n",
      "1  0xbd9b34ccbb8db0fdecb532b1eaf5d46f5b673fe8    36205747002327000   21000   \n",
      "2  0x561346b09b4b1c80b1404a884f9e58178a28ca84  3312460322035551985   21000   \n",
      "3  0x5368dbb6ff810867e8290c38abd5eefe57a1fa59    49054826830527621   21000   \n",
      "4  0x561346b09b4b1c80b1404a884f9e58178a28ca84   337387434796986299   21000   \n",
      "\n",
      "   ... cumulativeGasUsed txreceipt_status gasUsed confirmations isError  \\\n",
      "0  ...           4747306                1   21000       4579403       0   \n",
      "1  ...           1279865                1   21000       4579331       0   \n",
      "2  ...           2223389                1   21000       1607524       0   \n",
      "3  ...           3963578                1   21000       1607509       0   \n",
      "4  ...           2546807                1   21000       1607494       0   \n",
      "\n",
      "                                      address               source_file label  \\\n",
      "0  0x569ec61f15aa4383aeaa8a001fea3b818b1e8d23  normal_transactions.json     0   \n",
      "1  0x569ec61f15aa4383aeaa8a001fea3b818b1e8d23  normal_transactions.json     0   \n",
      "2  0x561346b09b4b1c80b1404a884f9e58178a28ca84  normal_transactions.json     0   \n",
      "3  0x561346b09b4b1c80b1404a884f9e58178a28ca84  normal_transactions.json     0   \n",
      "4  0x561346b09b4b1c80b1404a884f9e58178a28ca84  normal_transactions.json     0   \n",
      "\n",
      "        first_time        last_time  \n",
      "0  2022/11/14 2:08  2022/11/14 2:22  \n",
      "1  2022/11/14 2:08  2022/11/14 2:22  \n",
      "2    2024/1/4 5:47   2024/3/12 5:47  \n",
      "3    2024/1/4 5:47   2024/3/12 5:47  \n",
      "4    2024/1/4 5:47   2024/3/12 5:47  \n",
      "\n",
      "[5 rows x 22 columns]\n",
      "Index(['blockNumber', 'blockHash', 'timeStamp', 'hash', 'nonce',\n",
      "       'transactionIndex', 'from', 'to', 'value', 'gas', 'gasPrice',\n",
      "       'functionName', 'cumulativeGasUsed', 'txreceipt_status', 'gasUsed',\n",
      "       'confirmations', 'isError', 'address', 'source_file', 'label',\n",
      "       'first_time', 'last_time'],\n",
      "      dtype='object')\n",
      "source_file\n",
      "normal_transactions.json    234913\n",
      "ERC_20_transactions.json     50315\n",
      "Name: count, dtype: int64\n"
     ]
    }
   ],
   "source": [
    "# ========================================\n",
    "# Step 6: Inspect sample data\n",
    "# ========================================\n",
    "if not tx_df.empty:\n",
    "    print(tx_df.head(5))\n",
    "    print(tx_df.columns)\n",
    "    print(tx_df[\"source_file\"].value_counts())\n"
   ]
  },
  {
   "cell_type": "code",
   "execution_count": 32,
   "id": "34871a95-6b7d-478b-b5dd-6868f4d53e21",
   "metadata": {},
   "outputs": [
    {
     "name": "stdout",
     "output_type": "stream",
     "text": [
      "['blockNumber', 'blockHash', 'timeStamp', 'hash', 'nonce', 'transactionIndex', 'from', 'to', 'value', 'gas', 'gasPrice', 'functionName', 'cumulativeGasUsed', 'txreceipt_status', 'gasUsed', 'confirmations', 'isError', 'address', 'source_file', 'label', 'first_time', 'last_time']\n"
     ]
    }
   ],
   "source": [
    "print(tx_df.columns.tolist())"
   ]
  },
  {
   "cell_type": "code",
   "execution_count": 33,
   "id": "243db814-493a-4945-b0e4-c3e7b25ab7df",
   "metadata": {},
   "outputs": [
    {
     "name": "stdout",
     "output_type": "stream",
     "text": [
      "Null counts per column:\n",
      "blockNumber              0\n",
      "blockHash                0\n",
      "timeStamp                0\n",
      "hash                     0\n",
      "nonce                    0\n",
      "transactionIndex         0\n",
      "from                     0\n",
      "to                       0\n",
      "value                    0\n",
      "gas                      0\n",
      "gasPrice                 0\n",
      "functionName         50315\n",
      "cumulativeGasUsed        0\n",
      "txreceipt_status     50315\n",
      "gasUsed                  0\n",
      "confirmations            0\n",
      "isError              50315\n",
      "address                  0\n",
      "source_file              0\n",
      "label                    0\n",
      "first_time              32\n",
      "last_time               32\n",
      "dtype: int64\n"
     ]
    }
   ],
   "source": [
    "# Count null values per column\n",
    "null_counts = tx_df.isnull().sum()\n",
    "\n",
    "print(\"Null counts per column:\")\n",
    "print(null_counts)"
   ]
  },
  {
   "cell_type": "code",
   "execution_count": 34,
   "id": "e7e09bb7-1095-4fbf-871d-9a3bdaf16fa5",
   "metadata": {},
   "outputs": [
    {
     "name": "stdout",
     "output_type": "stream",
     "text": [
      "Null percentage per column:\n",
      "blockNumber           0.00\n",
      "blockHash             0.00\n",
      "timeStamp             0.00\n",
      "hash                  0.00\n",
      "nonce                 0.00\n",
      "transactionIndex      0.00\n",
      "from                  0.00\n",
      "to                    0.00\n",
      "value                 0.00\n",
      "gas                   0.00\n",
      "gasPrice              0.00\n",
      "functionName         17.64\n",
      "cumulativeGasUsed     0.00\n",
      "txreceipt_status     17.64\n",
      "gasUsed               0.00\n",
      "confirmations         0.00\n",
      "isError              17.64\n",
      "address               0.00\n",
      "source_file           0.00\n",
      "label                 0.00\n",
      "first_time            0.01\n",
      "last_time             0.01\n",
      "dtype: float64\n"
     ]
    }
   ],
   "source": [
    "null_percentage = (tx_df.isnull().mean() * 100).round(2)\n",
    "\n",
    "print(\"Null percentage per column:\")\n",
    "print(null_percentage)"
   ]
  },
  {
   "cell_type": "code",
   "execution_count": null,
   "id": "a6dc4f87-d4e2-48ad-b006-cd07188560f8",
   "metadata": {},
   "outputs": [],
   "source": []
  }
 ],
 "metadata": {
  "kernelspec": {
   "display_name": "Python 3 (ipykernel)",
   "language": "python",
   "name": "python3"
  },
  "language_info": {
   "codemirror_mode": {
    "name": "ipython",
    "version": 3
   },
   "file_extension": ".py",
   "mimetype": "text/x-python",
   "name": "python",
   "nbconvert_exporter": "python",
   "pygments_lexer": "ipython3",
   "version": "3.13.5"
  }
 },
 "nbformat": 4,
 "nbformat_minor": 5
}
