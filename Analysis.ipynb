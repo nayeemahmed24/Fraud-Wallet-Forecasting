{
 "cells": [
  {
   "cell_type": "code",
   "execution_count": 1,
   "id": "1a19e68c-0b51-49c5-a71c-c86755a904e4",
   "metadata": {},
   "outputs": [
    {
     "name": "stdout",
     "output_type": "stream",
     "text": [
      "📂 Total folders in ETHData: 27466\n",
      "✅ Folders present (match with BE.tsv): 16019\n",
      "❌ Folders missing (not found in ETHData): 0\n",
      "📄 Total addresses in BE.tsv: 16019\n"
     ]
    }
   ],
   "source": [
    "import pandas as pd\n",
    "import os\n",
    "\n",
    "# Load BE.tsv\n",
    "df = pd.read_csv(\"BE.tsv\", sep=\"\\t\")\n",
    "\n",
    "# Get all addresses from BE.tsv\n",
    "addresses = df[\"address\"].tolist()\n",
    "\n",
    "# Path to ETHData\n",
    "base_path = \"ETHData\"\n",
    "\n",
    "# List all folders inside ETHData\n",
    "all_folders = [f for f in os.listdir(base_path) if os.path.isdir(os.path.join(base_path, f))]\n",
    "total_folders = len(all_folders)\n",
    "\n",
    "# Check which addresses exist as folders\n",
    "present = []\n",
    "missing = []\n",
    "\n",
    "for addr in addresses:\n",
    "    if addr in all_folders:\n",
    "        present.append(addr)\n",
    "    else:\n",
    "        missing.append(addr)\n",
    "\n",
    "# Report counts\n",
    "print(\"📂 Total folders in ETHData:\", total_folders)\n",
    "print(\"✅ Folders present (match with BE.tsv):\", len(present))\n",
    "print(\"❌ Folders missing (not found in ETHData):\", len(missing))\n",
    "print(\"📄 Total addresses in BE.tsv:\", len(addresses))\n"
   ]
  },
  {
   "cell_type": "code",
   "execution_count": 3,
   "id": "12f8f419-ef15-48e8-b172-f65975448058",
   "metadata": {},
   "outputs": [
    {
     "name": "stdout",
     "output_type": "stream",
     "text": [
      "📂 Total folders in ETHData: 27466\n",
      "✅ Folders present (match with CE.tsv): 11243\n",
      "❌ Folders missing (not found in ETHData): 1329\n",
      "📄 Total addresses in CE.tsv: 12572\n"
     ]
    }
   ],
   "source": [
    "# Load CE.tsv\n",
    "dfc = pd.read_csv(\"CE.tsv\", sep=\"\\t\")\n",
    "\n",
    "# Get all addresses from CE.tsv\n",
    "addresses = dfc[\"address\"].tolist()\n",
    "\n",
    "# Path to ETHData\n",
    "base_path = \"ETHData\"\n",
    "\n",
    "# List all folders inside ETHData\n",
    "all_folders = [f for f in os.listdir(base_path) if os.path.isdir(os.path.join(base_path, f))]\n",
    "total_folders = len(all_folders)\n",
    "\n",
    "# Check which addresses exist as folders\n",
    "present = []\n",
    "missing = []\n",
    "\n",
    "for addr in addresses:\n",
    "    if addr in all_folders:\n",
    "        present.append(addr)\n",
    "    else:\n",
    "        missing.append(addr)\n",
    "\n",
    "# Report counts\n",
    "print(\"📂 Total folders in ETHData:\", total_folders)\n",
    "print(\"✅ Folders present (match with CE.tsv):\", len(present))\n",
    "print(\"❌ Folders missing (not found in ETHData):\", len(missing))\n",
    "print(\"📄 Total addresses in CE.tsv:\", len(addresses))"
   ]
  },
  {
   "cell_type": "code",
   "execution_count": null,
   "id": "eac5471a-7620-4031-83c4-313f851ec1d7",
   "metadata": {},
   "outputs": [],
   "source": []
  }
 ],
 "metadata": {
  "kernelspec": {
   "display_name": "Python 3 (ipykernel)",
   "language": "python",
   "name": "python3"
  },
  "language_info": {
   "codemirror_mode": {
    "name": "ipython",
    "version": 3
   },
   "file_extension": ".py",
   "mimetype": "text/x-python",
   "name": "python",
   "nbconvert_exporter": "python",
   "pygments_lexer": "ipython3",
   "version": "3.13.5"
  }
 },
 "nbformat": 4,
 "nbformat_minor": 5
}
