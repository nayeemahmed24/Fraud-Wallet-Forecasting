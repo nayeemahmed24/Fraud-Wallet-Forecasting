{
 "cells": [
  {
   "cell_type": "code",
   "execution_count": 2,
   "id": "fcce2686-2c64-4f8b-a57f-f5e090167e3c",
   "metadata": {},
   "outputs": [
    {
     "name": "stdout",
     "output_type": "stream",
     "text": [
      "Mini dataset loaded ✅\n",
      "  blockNumber                                          blockHash   timeStamp  \\\n",
      "0    15817904  0x049577ead7834d5c0d7cc4fc3acdc97ca7660aa4319e...  1666613783   \n",
      "1    16865994  0x4d9433ce89dd7d47439dc394dc97c594639692c2b31d...  1679280299   \n",
      "2    16896153  0xfea14db6f386e65740fb6c586cccf00328d278269f4a...  1679646275   \n",
      "\n",
      "                                                hash nonce transactionIndex  \\\n",
      "0  0x41eeb897c99593e87d0f36914719d239ba93b86712e7...     1              122   \n",
      "1  0xff2064c393274c7ccacbb2a6913331dde0599f312974...    12               94   \n",
      "2  0x811494031d7d8ccf3e9daba6c56ca590acb7c6b6ffc8...    29              117   \n",
      "\n",
      "                                         from  \\\n",
      "0  0xbb54317dbc9e04fadec70ddef2b3b1ffd2d09990   \n",
      "1  0xbdaa5ec7672c505b61759edee8e4f1683053a454   \n",
      "2  0x39b7b94da93e8a52dc33be09e37236d2922614ef   \n",
      "\n",
      "                                           to              value      gas  \\\n",
      "0  0x000000000000000000000000000000000000800a   1200000000000000    21000   \n",
      "1  0x000000000000000000000000000000000000800a  44000000000000000  1185609   \n",
      "2  0x000000000000000000000000000000000000800a    611190000000000    21000   \n",
      "\n",
      "   ... cumulativeGasUsed txreceipt_status gasUsed confirmations isError  \\\n",
      "0  ...           8615125                1   21000       4812861       0   \n",
      "1  ...          13399833                1   21432       3764771       0   \n",
      "2  ...           8542357                1   21000       3734612       0   \n",
      "\n",
      "                                      address               source_file label  \\\n",
      "0  0x000000000000000000000000000000000000800a  normal_transactions.json     1   \n",
      "1  0x000000000000000000000000000000000000800a  normal_transactions.json     1   \n",
      "2  0x000000000000000000000000000000000000800a  normal_transactions.json     1   \n",
      "\n",
      "        first_time       last_time  \n",
      "0  2016/10/12 0:09  2024/8/4 12:25  \n",
      "1  2016/10/12 0:09  2024/8/4 12:25  \n",
      "2  2016/10/12 0:09  2024/8/4 12:25  \n",
      "\n",
      "[3 rows x 22 columns]\n"
     ]
    }
   ],
   "source": [
    "import pandas as pd\n",
    "\n",
    "# Load mini dataset (choose Parquet if possible, it's faster & smaller)\n",
    "tx_df = pd.read_parquet(\"mini_transactions_main.parquet\")\n",
    "# OR if you prefer CSV:\n",
    "# tx_df = pd.read_csv(\"mini_transactions.csv\")\n",
    "\n",
    "print(\"Mini dataset loaded ✅\")\n",
    "# print(tx_df.shape)\n",
    "print(tx_df.head(3))"
   ]
  },
  {
   "cell_type": "code",
   "execution_count": 4,
   "id": "29059282-9d8c-4eec-b769-06984b0913fe",
   "metadata": {},
   "outputs": [
    {
     "name": "stdout",
     "output_type": "stream",
     "text": [
      "Label distribution:\n",
      "label\n",
      "1    12300690\n",
      "0     4028237\n",
      "Name: count, dtype: int64\n"
     ]
    }
   ],
   "source": [
    "label_counts = tx_df['label'].value_counts()\n",
    "\n",
    "print(\"Label distribution:\")\n",
    "print(label_counts)\n"
   ]
  },
  {
   "cell_type": "code",
   "execution_count": null,
   "id": "5c0ecfa7-b81d-49c2-8522-20df78084d95",
   "metadata": {},
   "outputs": [],
   "source": [
    "null_percentage = (tx_df.isnull().mean() * 100).round(2)\n",
    "\n",
    "print(\"Null percentage per column:\")\n",
    "print(null_percentage)"
   ]
  }
 ],
 "metadata": {
  "kernelspec": {
   "display_name": "Python 3 (ipykernel)",
   "language": "python",
   "name": "python3"
  },
  "language_info": {
   "codemirror_mode": {
    "name": "ipython",
    "version": 3
   },
   "file_extension": ".py",
   "mimetype": "text/x-python",
   "name": "python",
   "nbconvert_exporter": "python",
   "pygments_lexer": "ipython3",
   "version": "3.13.5"
  }
 },
 "nbformat": 4,
 "nbformat_minor": 5
}
